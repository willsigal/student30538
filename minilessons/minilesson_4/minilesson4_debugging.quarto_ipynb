{
  "cells": [
    {
      "cell_type": "raw",
      "metadata": {},
      "source": [
        "---\n",
        "title: \"Mini-Lesson 4: DeBugging\"\n",
        "author: \"Joaquin Pinto\"\n",
        "format:\n",
        "  revealjs:\n",
        "    slide-number: true\n",
        "    chalkboard: false \n",
        "    preview-links: auto\n",
        "    footer: \"DeBugging\"\n",
        "execute:\n",
        "  eval: true\n",
        "  echo: true\n",
        "---\n",
        "\n",
        "\n",
        "# Agenda\n",
        "\n",
        "- Reading error messages\n",
        "- Common Errors\n",
        "- De-Bugging Tips\n",
        "- Quarto/VS Code\n",
        "\n",
        "\n",
        "# Reading Error Messages\n",
        "\n",
        "---\n",
        "\n",
        "### Traceback\n",
        "\n",
        "- Start at the bottom: the last line usually gives the error type and description (e.g., `TypeError: unsupported operand type`)\n",
        "\n",
        "\n",
        "---"
      ],
      "id": "b48636cc"
    },
    {
      "cell_type": "markdown",
      "metadata": {},
      "source": [
        "<!--\n",
        "\n",
        "### Example"
      ],
      "id": "e82d2d9f"
    },
    {
      "cell_type": "code",
      "metadata": {},
      "source": [
        "def calculate_total(value_1, value_2):\n",
        "    return value_1 + value_2\n",
        "\n",
        "# This will cause the TypeError\n",
        "result = calculate_total(10, \"twenty\")\n",
        "print(result)"
      ],
      "id": "00a5115a",
      "execution_count": null,
      "outputs": []
    },
    {
      "cell_type": "markdown",
      "metadata": {},
      "source": [
        "-->\n",
        "# Common Python Errors\n",
        "\n",
        "---\n",
        "\n",
        "\n",
        "### Syntax Error\n",
        "\n",
        "- Missing closing parentheses, brackets, or quotes:\n"
      ],
      "id": "2f5c0d6a"
    },
    {
      "cell_type": "code",
      "metadata": {},
      "source": [
        "#| error: true\n",
        "\n",
        "print(\"Hello World  # Incorrect\n",
        "print(\"Hello World\")  # Correct"
      ],
      "id": "e4a0fdc9",
      "execution_count": null,
      "outputs": []
    },
    {
      "cell_type": "markdown",
      "metadata": {},
      "source": [
        "---\n",
        "\n",
        "### Indentation Error\n",
        "- Indentation errors in loops or conditionals:"
      ],
      "id": "1bb5edc1"
    },
    {
      "cell_type": "code",
      "metadata": {},
      "source": [
        "#| error: true\n",
        "\n",
        "for i in range(5):\n",
        "print(i)  # Incorrect: no indentation\n",
        "\n",
        "for i in range(5):\n",
        "    print(i)  # Correct"
      ],
      "id": "488ec98e",
      "execution_count": null,
      "outputs": []
    },
    {
      "cell_type": "markdown",
      "metadata": {},
      "source": [
        "---\n",
        "\n",
        "**Logical Error**: 'and' vs '&' in element-wise comparisons:\n"
      ],
      "id": "6cee423d"
    },
    {
      "cell_type": "code",
      "metadata": {},
      "source": [
        "#| echo: false\n",
        "\n",
        "import pandas as pd"
      ],
      "id": "7f70e5bd",
      "execution_count": null,
      "outputs": []
    },
    {
      "cell_type": "code",
      "metadata": {},
      "source": [
        "#| error: true\n",
        "\n",
        "df = pd.DataFrame({'A': [0, 1, 2], 'B': [5, 6, 7]})\n",
        "\n",
        "df[(df['A'] > 1) and (df['B'] > 2)]  # Incorrect\n",
        "df[(df['A'] > 1) & (df['B'] > 2)]  # Correct"
      ],
      "id": "c309f9f2",
      "execution_count": null,
      "outputs": []
    },
    {
      "cell_type": "markdown",
      "metadata": {},
      "source": [
        "---\n",
        "\n",
        "### AttributeError\n",
        "\n",
        "- Using a wrong method (`.average()` on a DataFrame):"
      ],
      "id": "3a7970a2"
    },
    {
      "cell_type": "code",
      "metadata": {},
      "source": [
        "#| error: true\n",
        "\n",
        "df['A'].average()  # Incorrect, should use df.mean()"
      ],
      "id": "580d730e",
      "execution_count": null,
      "outputs": []
    },
    {
      "cell_type": "markdown",
      "metadata": {},
      "source": [
        "---\n",
        "\n",
        "**KeyError**: access a column that doesn’t exist"
      ],
      "id": "e8abc356"
    },
    {
      "cell_type": "code",
      "metadata": {},
      "source": [
        "#| error: true\n",
        "\n",
        "df['C']  # KeyError, C is not in the DataFrame"
      ],
      "id": "bd4a7cb3",
      "execution_count": null,
      "outputs": []
    },
    {
      "cell_type": "markdown",
      "metadata": {},
      "source": [
        "---\n",
        "\n",
        "### Quarto Rendering Errors\n",
        "\n",
        "- For Quarto you must check the terminal for error messages\n",
        "\n",
        "![](images/Quarto_yaml.png)\n",
        "\n",
        "# Debugging Techniques\n",
        "\n",
        "---\n",
        "\n",
        "### Use ChatGPT\n",
        "\n",
        "- Copy-paste errors into ChatGPT for help. Example:\n",
        "\n",
        "```\n",
        "TypeError: can't multiply sequence by non-int of type 'float'\n",
        "```\n",
        "\n",
        "![](images/ChatGPT.png)\n",
        "\n",
        "---\n",
        "\n",
        "### Print Statements\n",
        "\n",
        "- Use `print()` to output variable states at different points in your code"
      ],
      "id": "75112153"
    },
    {
      "cell_type": "code",
      "metadata": {},
      "source": [
        "def multiplier(a, b, c):\n",
        "  \"\"\"\n",
        "  Multiply each variable by each other in order then sum\n",
        "  \"\"\"\n",
        "  mult_1 = a * b\n",
        "  mult_2 = a ** c\n",
        "  mult_3 = b * c\n",
        "\n",
        "  return mult_1 + mult_2 + mult_3\n",
        "\n",
        "print (multiplier(2, 3, 5))"
      ],
      "id": "6d537502",
      "execution_count": null,
      "outputs": []
    },
    {
      "cell_type": "markdown",
      "metadata": {},
      "source": [
        "*That's wrong, we were expecting 6 + 10 + 15 = 21*\n",
        "\n",
        "---\n",
        "\n",
        "### Print Statements\n"
      ],
      "id": "1a7bde98"
    },
    {
      "cell_type": "code",
      "metadata": {},
      "source": [
        "def multiplier(a, b, c):\n",
        "  \"\"\"\n",
        "  Multiply each variable by each other in order then sum\n",
        "  \"\"\"\n",
        "  mult_1 = a * b\n",
        "  print(f\"mult_1 = {mult_1}\")\n",
        "  mult_2 = a ** c\n",
        "  print(f\"mult_2 = {mult_2}\")\n",
        "  mult_3 = b * c\n",
        "  print(f\"mult_3 = {mult_3}\")\n",
        "\n",
        "  return mult_1 + mult_2 + mult_3\n",
        "\n",
        "print (multiplier(2, 3, 5))"
      ],
      "id": "4f308242",
      "execution_count": null,
      "outputs": []
    },
    {
      "cell_type": "markdown",
      "metadata": {},
      "source": [
        "*Looks like our issue is in mult_2*\n",
        "\n",
        "---\n",
        "\n",
        "::: {.callout-caution}\n",
        "\n",
        "**Remember to delete your print statements after finding your error**\n",
        ":::\n",
        "\n",
        "---\n",
        "\n",
        "### Isolate the Error\n",
        "\n",
        "- Comment or remove sections to isolate the cause.\n",
        "\n",
        "- This works in python and in Quarto\n",
        "\n",
        "- Once you know where your error is you can work on just that part\n",
        "\n",
        "- Look at your error so you can find the line where it is occuring\n",
        "\n",
        "---\n",
        "\n",
        "::: {.callout-tip}\n",
        "Try not to make your code too long, split it up if the line is too long\n",
        "\n",
        "**Use Code Chunks** (separate ```{python} sections)\n",
        "\n",
        "- this will help you isolate faster\n",
        "\n",
        "- writing all your code in one spot makes it harder to find where your issue is\n",
        ":::\n",
        "\n",
        "---\n",
        "\n",
        "### Using Built-In Functions\n",
        "\n",
        "- `type()`, `dir()`, and `help()` to understand object properties and methods"
      ],
      "id": "a639f24e"
    },
    {
      "cell_type": "code",
      "metadata": {},
      "source": [
        "type(\"my_var\")  # Check the type of variable\n",
        "help(sum)  # View documentation"
      ],
      "id": "2e0fc7e7",
      "execution_count": null,
      "outputs": []
    },
    {
      "cell_type": "markdown",
      "metadata": {},
      "source": [
        "---\n",
        "\n",
        "### Log File\n",
        "\n",
        "- Use `quarto preview my-file.qmd --debug`\n",
        "\n",
        "- This will go line by line and find errors at the exact spot where they occur\n",
        "\n",
        "- add `to create error_log.log` to save to a text file for revising\n",
        "\n",
        "---\n",
        "\n",
        "### Explain to a \"Rubber Duck\"\n",
        "\n",
        "![](images/RubberDucking.jpg)\n",
        "\n",
        "- Explaining code to an object forces clarity\n",
        "\n",
        "- Go into detail but explain in simple words\n",
        "\n",
        "- If you have an actual person to talk to that probably works better\n",
        "\n",
        "---\n",
        "\n",
        "::: {.callout-tip}\n",
        "Use the correct Code Style techniques from last week and recreate errors with the Reproducible Examples method\n",
        ":::\n",
        "\n",
        "# Recap\n",
        "\n",
        "- Practice recognizing and reading error messages \n",
        "  \n",
        "  - Python errors will be in the interpreter\n",
        "\n",
        "  - Quarto errors will be in the terminal\n",
        "\n",
        "- Plan your code ahead of time, set yourself up to easily debug\n",
        "\n",
        "- Find the spot of your error\n",
        "\n",
        "  - print statements\n",
        "  \n",
        "  - isolate your error\n",
        "  \n",
        "- Use ChatGPT or VS Code debugging"
      ],
      "id": "57129aa0"
    }
  ],
  "metadata": {
    "kernelspec": {
      "name": "python3",
      "language": "python",
      "display_name": "Python 3 (ipykernel)",
      "path": "/Users/joaquinpinto/Documents/python/UChicago/TA/DP2/fall2024/.venv/share/jupyter/kernels/python3"
    }
  },
  "nbformat": 4,
  "nbformat_minor": 5
}